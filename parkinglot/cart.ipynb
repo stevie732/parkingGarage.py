{
 "cells": [
  {
   "cell_type": "markdown",
   "metadata": {},
   "source": [
    "Parking Garage (OOP)"
   ]
  },
  {
   "cell_type": "code",
   "execution_count": 62,
   "metadata": {},
   "outputs": [],
   "source": [
    "class Car:\n",
    "    def __init__(self, LN):\n",
    "        self.LN = LN\n",
    "\n",
    "class ParkingSlot:\n",
    "    def __init__(self, row, spotnumber, level, car):\n",
    "        self.row = row\n",
    "        self.spotnumber = spotnumber\n",
    "        self.level = level\n",
    "        self.car = car\n",
    "\n",
    "    def isAvailable(self):\n",
    "        return self.car == none\n",
    "\n",
    "    def park(self, vehicle):\n",
    "        self.car = vehicle\n",
    "\n",
    "    def removeVehicle(self):\n",
    "        self.car = None\n",
    "\n",
    "class Level:\n",
    "    def __init__(self, rows, levelNumber):\n",
    "        self.levelNumber = levelNumber\n",
    "        self.rows = rows\n",
    "        self.spotsPerRow= 2\n",
    "        self.ParkingSlots = []\n",
    "        self.availableSpots = rows * self.spotsPerRow\n",
    "\n",
    "    def findAvailableSlot(self):\n",
    "        if(self.availableSpots <=0):\n",
    "            return None\n",
    "        else:\n",
    "            if(len(self.ParkingSlots) == 0):\n",
    "                return ParkingSlot(0,0,0,None)\n",
    "            else:\n",
    "                lastCarParked = self.ParkingSlots[-1]\n",
    "\n",
    "            if(lastCarParked.spotNumber<self.spotsPerRow):\n",
    "                return ParkingSlot(LastCarParked.row, lastCarParked.spotNumber+1,self.levelNumber, None)\n",
    "            if(lastCarParked.row<self.rows):\n",
    "                return ParkingSlot(lastCarParked.row+1,0,self.levelNumber,None)\n",
    "        \n",
    "        def park(self, vehicle):\n",
    "            freeParkingSpot = self.findAvailableSlot()\n",
    "            if(not(freeParkingSpot)):\n",
    "                return False\n",
    "        "
   ]
  }
 ],
 "metadata": {
  "language_info": {
   "name": "python"
  }
 },
 "nbformat": 4,
 "nbformat_minor": 2
}
