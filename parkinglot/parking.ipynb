{
 "cells": [
  {
   "cell_type": "code",
   "execution_count": 1,
   "metadata": {},
   "outputs": [
    {
     "ename": "ModuleNotFoundError",
     "evalue": "No module named 'parkinglot'",
     "output_type": "error",
     "traceback": [
      "\u001b[0;31m---------------------------------------------------------------------------\u001b[0m",
      "\u001b[0;31mModuleNotFoundError\u001b[0m                       Traceback (most recent call last)",
      "\u001b[1;32md:\\C_Wolve\\Shopping cart\\parkinglot\\parking.ipynb Cell 1\u001b[0m line \u001b[0;36m2\n\u001b[1;32m      <a href='vscode-notebook-cell:/d%3A/C_Wolve/Shopping%20cart/parkinglot/parking.ipynb#W0sZmlsZQ%3D%3D?line=0'>1</a>\u001b[0m \u001b[39mimport\u001b[39;00m \u001b[39munittest\u001b[39;00m\n\u001b[0;32m----> <a href='vscode-notebook-cell:/d%3A/C_Wolve/Shopping%20cart/parkinglot/parking.ipynb#W0sZmlsZQ%3D%3D?line=1'>2</a>\u001b[0m \u001b[39mfrom\u001b[39;00m \u001b[39mparkinglot\u001b[39;00m \u001b[39mimport\u001b[39;00m level,car\n\u001b[1;32m      <a href='vscode-notebook-cell:/d%3A/C_Wolve/Shopping%20cart/parkinglot/parking.ipynb#W0sZmlsZQ%3D%3D?line=3'>4</a>\u001b[0m \u001b[39mclass\u001b[39;00m \u001b[39mParkingTest\u001b[39;00m(unittest, TestCase):\n\u001b[1;32m      <a href='vscode-notebook-cell:/d%3A/C_Wolve/Shopping%20cart/parkinglot/parking.ipynb#W0sZmlsZQ%3D%3D?line=4'>5</a>\u001b[0m     \u001b[39mdef\u001b[39;00m \u001b[39mtest_level\u001b[39m(\u001b[39mself\u001b[39m):\n",
      "\u001b[0;31mModuleNotFoundError\u001b[0m: No module named 'parkinglot'"
     ]
    }
   ],
   "source": [
    "import unittest\n",
    "from parkinglot import level,car\n",
    "\n",
    "class ParkingTest(unittest, TestCase):\n",
    "    def test_level(self):\n",
    "        level = Level(rows=1, levelNumber =0)\n",
    "        self.assertTrue(level.park(car('l1')))\n",
    "        self.assertTrue(level.park(car('L2')))\n",
    "        self.assertFalse(level.park(car('L3')))\n",
    "\n",
    "if __name__ == '__main__':\n",
    "    unittest.main()"
   ]
  }
 ],
 "metadata": {
  "kernelspec": {
   "display_name": "Python 3 (ipykernel)",
   "language": "python",
   "name": "python3"
  },
  "language_info": {
   "codemirror_mode": {
    "name": "ipython",
    "version": 3
   },
   "file_extension": ".py",
   "mimetype": "text/x-python",
   "name": "python",
   "nbconvert_exporter": "python",
   "pygments_lexer": "ipython3",
   "version": "3.10.8"
  }
 },
 "nbformat": 4,
 "nbformat_minor": 2
}
